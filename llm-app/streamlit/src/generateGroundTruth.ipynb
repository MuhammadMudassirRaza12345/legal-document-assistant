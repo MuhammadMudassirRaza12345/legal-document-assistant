{
 "cells": [
  {
   "cell_type": "code",
   "execution_count": 1,
   "metadata": {},
   "outputs": [
    {
     "data": {
      "text/plain": [
       "{'question': \"In the case of Nasr v NRMA Insurance [2006] NSWSC 1018, why was the plaintiff's appeal lodged out of time?\",\n",
       " 'text': \"In Nasr v NRMA Insurance [2006] NSWSC 1018, the plaintiff's appeal was lodged out of time because the summons was filed on 8 June 2006, seven months after the decision of the Local Court was made on 4 October 2005. No explanation was provided for this delay.\",\n",
       " 'doc_id': '81ceb3c0'}"
      ]
     },
     "execution_count": 1,
     "metadata": {},
     "output_type": "execute_result"
    }
   ],
   "source": [
    "import json\n",
    "\n",
    "# Open the JSON file and load the data\n",
    "with open('allDocument.json', 'r') as file:\n",
    "    data = json.load(file)\n",
    "\n",
    "# Print the loaded data\n",
    "# print(len(data[0]))\n",
    "data[0]\n"
   ]
  },
  {
   "cell_type": "code",
   "execution_count": 2,
   "metadata": {},
   "outputs": [],
   "source": [
    "from collections import defaultdict"
   ]
  },
  {
   "cell_type": "code",
   "execution_count": 3,
   "metadata": {},
   "outputs": [],
   "source": [
    "hashes = defaultdict(list)\n",
    "\n",
    "for doc in data:\n",
    "    docId = doc['doc_id']\n",
    "    hashes[docId].append(doc)"
   ]
  },
  {
   "cell_type": "code",
   "execution_count": 4,
   "metadata": {},
   "outputs": [
    {
     "data": {
      "text/plain": [
       "[{'question': \"In the case of Nasr v NRMA Insurance [2006] NSWSC 1018, why was the plaintiff's appeal lodged out of time?\",\n",
       "  'text': \"In Nasr v NRMA Insurance [2006] NSWSC 1018, the plaintiff's appeal was lodged out of time because the summons was filed on 8 June 2006, seven months after the decision of the Local Court was made on 4 October 2005. No explanation was provided for this delay.\",\n",
       "  'doc_id': '81ceb3c0'}]"
      ]
     },
     "execution_count": 4,
     "metadata": {},
     "output_type": "execute_result"
    }
   ],
   "source": [
    "hashes['81ceb3c0']"
   ]
  },
  {
   "cell_type": "code",
   "execution_count": 18,
   "metadata": {},
   "outputs": [],
   "source": [
    "import ollama\n",
    "\n",
    "promptTemplate = \"\"\"\n",
    "    You emulate a user who will use the legal document assistant.\n",
    "    Formulate 3 questions this user might ask based on a legal documents record. The record\n",
    "    should contain the answer to the questions, and the questions should be complete and not too short.\n",
    "    If possible, use as fewer words as possible from the record. \n",
    "\n",
    "    The record:\n",
    "    question: {question}\n",
    "    text: {text}\n",
    "\n",
    "    Provide the output in array like this format below:\n",
    "\n",
    "    [\"question1\", \"question2\", ..., \"question5\"]\n",
    "    \"\"\".strip()\n",
    "\n",
    "def generate_questions(doc):\n",
    "    prompt = promptTemplate.format(**doc)\n",
    "\n",
    "    llm = ollama.chat(\n",
    "        model=\"qwen:0.5b\",\n",
    "        messages=[{\"role\": \"user\", \"content\":prompt}],\n",
    "        # stream=True\n",
    "    )\n",
    "\n",
    "    \n",
    "    return llm['message']['content']\n",
    "\n"
   ]
  },
  {
   "cell_type": "code",
   "execution_count": 12,
   "metadata": {},
   "outputs": [],
   "source": [
    "from tqdm.auto import tqdm "
   ]
  },
  {
   "cell_type": "code",
   "execution_count": 19,
   "metadata": {},
   "outputs": [
    {
     "name": "stderr",
     "output_type": "stream",
     "text": [
      "  0%|          | 47/27109 [16:41<189:15:37, 25.18s/it]"
     ]
    }
   ],
   "source": [
    "results = {}\n",
    "for doc in tqdm(data): \n",
    "    doc_id = doc['doc_id']\n",
    "    if doc_id in results:\n",
    "        continue\n",
    "\n",
    "    questions = generate_questions(doc)\n",
    "    results[doc_id] = questions"
   ]
  },
  {
   "cell_type": "code",
   "execution_count": null,
   "metadata": {},
   "outputs": [
    {
     "name": "stdout",
     "output_type": "stream",
     "text": [
      "[\n",
      "  \"the plaintiff's appeal was lodged out of time because the summons was filed on 8 June 2006, seven months after the decision of the Local Court was made on 4 October 2005. No explanation was provided for this delay.\"\n",
      "]\n"
     ]
    }
   ],
   "source": [
    "print(results['81ceb3c0'])"
   ]
  }
 ],
 "metadata": {
  "interpreter": {
   "hash": "9ce43836c8d3287a06e199a1efd6974587c1d8c7cdf961feda0708cd09e2869c"
  },
  "kernelspec": {
   "display_name": "Python 3.8.10 64-bit",
   "language": "python",
   "name": "python3"
  },
  "language_info": {
   "codemirror_mode": {
    "name": "ipython",
    "version": 3
   },
   "file_extension": ".py",
   "mimetype": "text/x-python",
   "name": "python",
   "nbconvert_exporter": "python",
   "pygments_lexer": "ipython3",
   "version": "3.8.10"
  },
  "orig_nbformat": 4
 },
 "nbformat": 4,
 "nbformat_minor": 2
}
